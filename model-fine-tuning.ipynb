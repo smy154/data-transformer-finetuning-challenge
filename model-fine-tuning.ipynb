{
 "cells": [
  {
   "cell_type": "markdown",
   "id": "350ce429",
   "metadata": {},
   "source": [
    "# Fine-tuning"
   ]
  },
  {
   "cell_type": "markdown",
   "id": "86190f92",
   "metadata": {},
   "source": [
    "Now that you've seen the power of Transformers models in many different forms, we're going to dig deeper with the HuggingFace library and focus a little more on understanding what is going on, and how we can use these models to improve on techniques we saw yesterday and last week. To that end, let's consider a task we've seen before - sentiment classification. "
   ]
  },
  {
   "cell_type": "markdown",
   "id": "e2ea1cf9",
   "metadata": {},
   "source": [
    "### The Data"
   ]
  },
  {
   "cell_type": "markdown",
   "id": "ad801cb9",
   "metadata": {},
   "source": [
    "To get started, we're going to load up this [csv](https://wagon-public-datasets.s3.amazonaws.com/imdb.csv) of 8000 IMDB reviews that we're going to be using throughout this exercise."
   ]
  },
  {
   "cell_type": "markdown",
   "id": "7ef1c480",
   "metadata": {},
   "source": [
    "Once you've loaded it up, check what kind of data we're dealing with and take some time to look through some of the examples in the DataFrame. "
   ]
  },
  {
   "cell_type": "code",
   "execution_count": null,
   "id": "c0c2979e",
   "metadata": {},
   "outputs": [
    {
     "name": "stdout",
     "output_type": "stream",
     "text": [
      "Ouch! They don't come much worse than this horrid adaptation of C. S. Lewis's beloved novel. While the adaptation is very true to the novel, the acting is simply awful and the sets and special effects are on a scale equivalent to a school play. I've read that the budget for this miniseries was the grandest that the BBC has ever given at the time, but surely they could have scraped together a bit more than the $2 that it looks like this was filmed for. The worst effect of all is Mr. Beaver. I know computer effects weren't at the level necessary or even cost effective at the time, but the costume store man in a suit look was horrid. Better to have just cut the character from the film than do that to the role! Avoid this at all costs.\n",
      "0\n"
     ]
    }
   ],
   "source": [
    "# $CHALLENGIFY_BEGIN\n",
    "import pandas as pd\n",
    "\n",
    "df = pd.read_csv(\"data/imdb.csv\")\n",
    "\n",
    "print(df[\"text\"][0])\n",
    "print(df[\"label\"][0])\n",
    "# $CHALLENGIFY_END"
   ]
  },
  {
   "cell_type": "markdown",
   "id": "ecfb894e",
   "metadata": {},
   "source": [
    "Plot a histogram of the lengths of each reviews so we can get a sense of how they are distributed"
   ]
  },
  {
   "cell_type": "code",
   "execution_count": null,
   "id": "8683c422",
   "metadata": {},
   "outputs": [
    {
     "data": {
      "text/plain": [
       "<Axes: >"
      ]
     },
     "execution_count": null,
     "metadata": {},
     "output_type": "execute_result"
    },
    {
     "data": {
      "image/png": "[encoded data removed]",
      "text/plain": [
       "<Figure size 640x480 with 1 Axes>"
      ]
     },
     "metadata": {},
     "output_type": "display_data"
    }
   ],
   "source": [
    "# $CHALLENGIFY_BEGIN\n",
    "df[\"len\"] = df[\"text\"].map(lambda x: len(x.split()))\n",
    "df[\"len\"].hist(bins = 20)\n",
    "# $CHALLENGIFY_END"
   ]
  },
  {
   "cell_type": "markdown",
   "id": "0785e291",
   "metadata": {},
   "source": [
    "So - we have a lot of reviews - most around the 150-250 word length - and those reviews have a lot of messy punctiation. We could spend a very long time going through and tidying up our text, but the HuggingFace library provides us with `AutoTokenizers` that allow us to quickly and easily convert our text to tokens."
   ]
  },
  {
   "cell_type": "markdown",
   "id": "72c1d964",
   "metadata": {},
   "source": [
    "Throughout this notebook, we're going to be working with the `bert-tiny` model from HuggingFace as it's nice and small which means we won't be waiting around for hours for trainings to finish! Why mention this here? Well because it's really important that our __Tokenizer__ and our __model__ align! \n",
    "\n",
    "If we want to leverage pre-training, we need to convert our words to tokens and then pass them through the model in a way that our model has seen before. See the diagrams below to see why we need them to match. "
   ]
  },
  {
   "cell_type": "markdown",
   "id": "97430388",
   "metadata": {},
   "source": [
    "<img src = \"https://wagon-public-datasets.s3.amazonaws.com/data-science-images/lectures/Transformers/tok_emb.png\" width = 550px>"
   ]
  },
  {
   "cell_type": "markdown",
   "id": "e52b64dd",
   "metadata": {},
   "source": [
    "<img src = \"https://wagon-public-datasets.s3.amazonaws.com/data-science-images/lectures/Transformers/tok_emb_bad.png\" width = 550px>"
   ]
  },
  {
   "cell_type": "markdown",
   "id": "6a2260f1",
   "metadata": {},
   "source": [
    "With that said, instantiate an `AutoTokenizer.from_pretrained()` from HuggingFace that corresponds to the `prajjwal1/bert-tiny` model. \n",
    "\n",
    "With HuggingFace, when we load in a tokenizer, if we want to pad to the left or right, we have to mention this when we load it. With BERT, we want our padding to be to the \"right\" (a.k.a. post-padding) so make sure you pass this key-word argument when you load your model (see the [docs](https://huggingface.co/docs/transformers/v4.33.0/en/model_doc/auto#transformers.AutoTokenizer.from_pretrained.example) for clues on this). Once you've got your tokenizer, use it to produce tokens for this example sentence: \n",
    "\n",
    "\"My tokenizers and model must match\""
   ]
  },
  {
   "cell_type": "code",
   "execution_count": null,
   "id": "ba27ccf3",
   "metadata": {},
   "outputs": [
    {
     "data": {
      "text/plain": [
       "{'input_ids': [101, 2026, 19204, 17629, 2015, 1998, 2944, 2442, 2674, 102], 'token_type_ids': [0, 0, 0, 0, 0, 0, 0, 0, 0, 0], 'attention_mask': [1, 1, 1, 1, 1, 1, 1, 1, 1, 1]}"
      ]
     },
     "execution_count": null,
     "metadata": {},
     "output_type": "execute_result"
    }
   ],
   "source": [
    "# $CHALLENGIFY_BEGIN\n",
    "from transformers import AutoTokenizer\n",
    "tokenizer = AutoTokenizer.from_pretrained(\"prajjwal1/bert-tiny\", padding_side = \"right\")\n",
    "tokenizer(\"My tokenizers and model must match\")\n",
    "# $CHALLENGIFY_END"
   ]
  },
  {
   "cell_type": "markdown",
   "id": "c08c1bf4",
   "metadata": {},
   "source": [
    "To make the point about tokenizers and models needing to fit, run the cell below and see what tokens you get for exactly the same sentence."
   ]
  },
  {
   "cell_type": "code",
   "execution_count": null,
   "id": "08140bd5",
   "metadata": {},
   "outputs": [
    {
     "data": {
      "text/plain": [
       "{'input_ids': [1, 1619, 5993, 19427, 322, 1904, 1818, 1993], 'token_type_ids': [0, 0, 0, 0, 0, 0, 0, 0], 'attention_mask': [1, 1, 1, 1, 1, 1, 1, 1]}"
      ]
     },
     "execution_count": null,
     "metadata": {},
     "output_type": "execute_result"
    }
   ],
   "source": [
    "llama_tokenizer = AutoTokenizer.from_pretrained(\"TheBloke/llama-2-70b-Guanaco-QLoRA-fp16\")\n",
    "\n",
    "llama_tokenizer(\"My tokenizers and model must match\")\n"
   ]
  },
  {
   "cell_type": "markdown",
   "id": "2fdaec5c",
   "metadata": {},
   "source": [
    "We see we get out totally different numbers for the `input_ids`!"
   ]
  },
  {
   "cell_type": "markdown",
   "id": "2fd8b352",
   "metadata": {},
   "source": [
    "Another thing you'll notice about __both__ tokenizers is that we get our more tokens than we put in. \n",
    "\n",
    "### Why? \n",
    "\n",
    "The BERT tokenizer (and many other tokenizers) breaks down input text into smaller units called subwords using \"WordPiece\" tokenization, enabling the model to handle complex words and capture meaningful subword representations. Loop through your BERT tokens and call the `.decode()` function on them one by one to see how it has broken up the original sentence."
   ]
  },
  {
   "cell_type": "code",
   "execution_count": null,
   "id": "6f6bcee7",
   "metadata": {},
   "outputs": [
    {
     "name": "stdout",
     "output_type": "stream",
     "text": [
      "101 corresponds to [CLS]\n",
      "2026 corresponds to my\n",
      "2944 corresponds to model\n",
      "1998 corresponds to and\n",
      "2026 corresponds to my\n",
      "19204 corresponds to token\n",
      "17629 corresponds to ##izer\n",
      "2442 corresponds to must\n",
      "2674 corresponds to match\n",
      "102 corresponds to [SEP]\n"
     ]
    }
   ],
   "source": [
    "# $CHALLENGIFY_BEGIN\n",
    "tokens = tokenizer(\"My model and my tokenizer must match\")[\"input_ids\"]\n",
    "\n",
    "for x in tokens:\n",
    "    print(f\"{x} corresponds to {tokenizer.decode(x)}\")\n",
    "# $CHALLENGIFY_END"
   ]
  },
  {
   "cell_type": "markdown",
   "id": "5046fdd0",
   "metadata": {},
   "source": [
    "The tokenizer uses a predefined vocabulary of subwords, assigning each a unique token ID. It also introduces special tokens like `[CLS]` (shows up as 101) and `[SEP]` (shows up as 102) to mark the beginning and separation of sentences for the model. The tokenizer can also handle padding or truncation (cutting up our sentences for us!) so they're a vital part of our pipeline. You'll also see you get out some other keys in this dictionary - `token_type_ids` and `attention_mask` - but we won't worry about them too much for right now!"
   ]
  },
  {
   "cell_type": "markdown",
   "id": "16431ded",
   "metadata": {},
   "source": [
    "So now that we have our sentences and our Tokenizer, let's try converting the first sentence in our `df` into tokens."
   ]
  },
  {
   "cell_type": "code",
   "execution_count": null,
   "id": "274adfcf",
   "metadata": {},
   "outputs": [
    {
     "data": {
      "text/plain": [
       "{'input_ids': [101, 15068, 2818, 999, 2027, 2123, 1005, 1056, 2272, 2172, 4788, 2084, 2023, 7570, 18752, 2094, 6789, 1997, 1039, 1012, 1055, 1012, 4572, 1005, 1055, 11419, 3117, 1012, 2096, 1996, 6789, 2003, 2200, 2995, 2000, 1996, 3117, 1010, 1996, 3772, 2003, 3432, 9643, 1998, 1996, 4520, 1998, 2569, 3896, 2024, 2006, 1037, 4094, 5662, 2000, 1037, 2082, 2377, 1012, 1045, 1005, 2310, 3191, 2008, 1996, 5166, 2005, 2023, 13612, 2001, 1996, 9026, 3367, 2008, 1996, 4035, 2038, 2412, 2445, 2012, 1996, 2051, 1010, 2021, 7543, 2027, 2071, 2031, 20378, 2362, 1037, 2978, 2062, 2084, 1996, 1002, 1016, 2008, 2009, 3504, 2066, 2023, 2001, 6361, 2005, 1012, 1996, 5409, 3466, 1997, 2035, 2003, 2720, 1012, 13570, 1012, 1045, 2113, 3274, 3896, 4694, 1005, 1056, 2012, 1996, 2504, 4072, 2030, 2130, 3465, 4621, 2012, 1996, 2051, 1010, 2021, 1996, 9427, 3573, 2158, 1999, 1037, 4848, 2298, 2001, 7570, 18752, 2094, 1012, 2488, 2000, 2031, 2074, 3013, 1996, 2839, 2013, 1996, 2143, 2084, 2079, 2008, 2000, 1996, 2535, 999, 4468, 2023, 2012, 2035, 5366, 1012, 102], 'token_type_ids': [0, 0, 0, 0, 0, 0, 0, 0, 0, 0, 0, 0, 0, 0, 0, 0, 0, 0, 0, 0, 0, 0, 0, 0, 0, 0, 0, 0, 0, 0, 0, 0, 0, 0, 0, 0, 0, 0, 0, 0, 0, 0, 0, 0, 0, 0, 0, 0, 0, 0, 0, 0, 0, 0, 0, 0, 0, 0, 0, 0, 0, 0, 0, 0, 0, 0, 0, 0, 0, 0, 0, 0, 0, 0, 0, 0, 0, 0, 0, 0, 0, 0, 0, 0, 0, 0, 0, 0, 0, 0, 0, 0, 0, 0, 0, 0, 0, 0, 0, 0, 0, 0, 0, 0, 0, 0, 0, 0, 0, 0, 0, 0, 0, 0, 0, 0, 0, 0, 0, 0, 0, 0, 0, 0, 0, 0, 0, 0, 0, 0, 0, 0, 0, 0, 0, 0, 0, 0, 0, 0, 0, 0, 0, 0, 0, 0, 0, 0, 0, 0, 0, 0, 0, 0, 0, 0, 0, 0, 0, 0, 0, 0, 0, 0, 0, 0, 0, 0, 0, 0, 0, 0, 0], 'attention_mask': [1, 1, 1, 1, 1, 1, 1, 1, 1, 1, 1, 1, 1, 1, 1, 1, 1, 1, 1, 1, 1, 1, 1, 1, 1, 1, 1, 1, 1, 1, 1, 1, 1, 1, 1, 1, 1, 1, 1, 1, 1, 1, 1, 1, 1, 1, 1, 1, 1, 1, 1, 1, 1, 1, 1, 1, 1, 1, 1, 1, 1, 1, 1, 1, 1, 1, 1, 1, 1, 1, 1, 1, 1, 1, 1, 1, 1, 1, 1, 1, 1, 1, 1, 1, 1, 1, 1, 1, 1, 1, 1, 1, 1, 1, 1, 1, 1, 1, 1, 1, 1, 1, 1, 1, 1, 1, 1, 1, 1, 1, 1, 1, 1, 1, 1, 1, 1, 1, 1, 1, 1, 1, 1, 1, 1, 1, 1, 1, 1, 1, 1, 1, 1, 1, 1, 1, 1, 1, 1, 1, 1, 1, 1, 1, 1, 1, 1, 1, 1, 1, 1, 1, 1, 1, 1, 1, 1, 1, 1, 1, 1, 1, 1, 1, 1, 1, 1, 1, 1, 1, 1, 1, 1]}"
      ]
     },
     "execution_count": null,
     "metadata": {},
     "output_type": "execute_result"
    }
   ],
   "source": [
    "# $CHALLENGIFY_BEGIN\n",
    "df[\"text\"]\n",
    "\n",
    "first_sentence_tokenized = tokenizer(df[\"text\"][0])\n",
    "\n",
    "first_sentence_tokenized\n",
    "# $CHALLENGIFY_END"
   ]
  },
  {
   "cell_type": "markdown",
   "id": "0cb1a46e",
   "metadata": {},
   "source": [
    "### So how can we use a BERT model?"
   ]
  },
  {
   "cell_type": "markdown",
   "id": "77e9ebe4",
   "metadata": {},
   "source": [
    "Now that we've explored tokenization, we need to think about how we go from our tokens to somehow getting out a classification of \"positive\" or \"negative\" and to do that we need to talk about BERT. If you're looking for a great 10-minute explainer on BERT, you can't go wrong with [Jay Alammar's article](https://jalammar.github.io/illustrated-bert/). The high level view is essentially this, though:\n",
    "\n",
    "BERT gets trained via \"semi-supervised\" learning to predict the missing word in a sentence, looking both to its left and right as its context (hence it is named a \"bidirectional\" encoder). This means that it can see everything on either side of the masked word below.\n",
    "\n",
    "<img src = \"https://wagon-public-datasets.s3.amazonaws.com/data-science-images/lectures/Transformers/bert_workings.png\" width = 350px>\n",
    "\n"
   ]
  },
  {
   "cell_type": "markdown",
   "id": "66209616",
   "metadata": {},
   "source": [
    "Over time, BERT gets great at filling in the blank - in this case it learns that the word \"over\" should go here! Let's take a look at some architectures: \n",
    "\n",
    "<img src = https://wagon-public-datasets.s3.amazonaws.com/data-science-images/lectures/Transformers/13789bert_architecture.png width = 500px>\n",
    "\n",
    "It's literally just an encoder (or the left side of the model we covered in the lecture! GPT is the right side of the model). During training, they add a few Feed Forward layers and a Softmax layer to make the model try to predict the most likely word blanked out:\n",
    "\n",
    "\n",
    "<img src = https://wagon-public-datasets.s3.amazonaws.com/data-science-images/lectures/Transformers/transformers_enc_de_bert.png width = 600px>\n",
    "\n",
    "\n",
    "__\"But why does all of this matter? We're not trying to predict a next word here!\", you ask!__ Well, because through learning to fill in the blanks millions of times on large datasets, BERT gets a __really__ good understanding of what words mean and how sentences fit together and produces __fantastic, context-aware__ embeddings. \n",
    "\n",
    "\n",
    "\n",
    "<img src = https://wagon-public-datasets.s3.amazonaws.com/data-science-images/lectures/Transformers/bert_good_embeddings_2.png width = 400px>\n",
    "\n",
    "This is when BERT can become valuable to us - once it's been pre-trained - since we can now take those embedding and use them as __features__ for other tasks."
   ]
  },
  {
   "cell_type": "markdown",
   "id": "0446f071",
   "metadata": {},
   "source": [
    "So - now that you understand our goal - let's see how BERT works in practice."
   ]
  },
  {
   "cell_type": "markdown",
   "id": "026a8493",
   "metadata": {},
   "source": [
    "### Using BERT"
   ]
  },
  {
   "cell_type": "markdown",
   "id": "837415b5",
   "metadata": {},
   "source": [
    "Use [`TFAutoModel`](https://huggingface.co/transformers/v3.0.2/model_doc/auto.html#tfautomodel) to load up a `tiny-bert` model. \n",
    "\n",
    "N.B. HuggingFace lets us load models that were coded in other Deep Learning libraries (like PyTorch), but if we want to use them like we would use a normal TF model, we can pass `from_pt = True`. "
   ]
  },
  {
   "cell_type": "code",
   "execution_count": null,
   "id": "b5c7a656",
   "metadata": {},
   "outputs": [
    {
     "name": "stderr",
     "output_type": "stream",
     "text": [
      "Some weights of the PyTorch model were not used when initializing the TF 2.0 model TFBertModel: ['cls.seq_relationship.weight', 'cls.predictions.bias', 'cls.predictions.transform.dense.weight', 'cls.seq_relationship.bias', 'bert.embeddings.position_ids', 'cls.predictions.transform.dense.bias', 'cls.predictions.decoder.bias', 'cls.predictions.transform.LayerNorm.weight', 'cls.predictions.decoder.weight', 'cls.predictions.transform.LayerNorm.bias']\n",
      "- This IS expected if you are initializing TFBertModel from a PyTorch model trained on another task or with another architecture (e.g. initializing a TFBertForSequenceClassification model from a BertForPreTraining model).\n",
      "- This IS NOT expected if you are initializing TFBertModel from a PyTorch model that you expect to be exactly identical (e.g. initializing a TFBertForSequenceClassification model from a BertForSequenceClassification model).\n",
      "All the weights of TFBertModel were initialized from the PyTorch model.\n",
      "If your task is similar to the task the model of the checkpoint was trained on, you can already use TFBertModel for predictions without further training.\n"
     ]
    }
   ],
   "source": [
    "# $CHALLENGIFY_BEGIN\n",
    "from transformers import TFAutoModel\n",
    "model = TFAutoModel.from_pretrained(\"prajjwal1/bert-tiny\", from_pt = True)\n",
    "# $CHALLENGIFY_END"
   ]
  },
  {
   "cell_type": "markdown",
   "id": "3087f318",
   "metadata": {},
   "source": [
    "How many parameters do we have in our model? Try using the `model.num_parameters()` method to find out!"
   ]
  },
  {
   "cell_type": "code",
   "execution_count": null,
   "id": "6789efef",
   "metadata": {},
   "outputs": [
    {
     "data": {
      "text/plain": [
       "4385920"
      ]
     },
     "execution_count": null,
     "metadata": {},
     "output_type": "execute_result"
    }
   ],
   "source": [
    "# $CHALLENGIFY_BEGIN\n",
    "model.num_parameters()\n",
    "# $CHALLENGIFY_END"
   ]
  },
  {
   "cell_type": "markdown",
   "id": "1e186db3",
   "metadata": {},
   "source": [
    "To actually get anything out of our model, we need to pass it tensors because that is what it's expecting. With that in mind, let's try using our tokenizer again to create some tensors! Pass the example sentence from above (\"My tokenizers and model must match\") through your tokenizer again, only this time we're going to add a keyword argument:\n",
    "\n",
    "`return_tensors` should be set to `\"tf\"` <br>\n",
    "\n",
    "\n"
   ]
  },
  {
   "cell_type": "code",
   "execution_count": null,
   "id": "4dae2191",
   "metadata": {},
   "outputs": [],
   "source": [
    "# $CHALLENGIFY_BEGIN\n",
    "tensor_token = tokenizer(\"My tokenizers and model must match\", return_tensors=\"tf\")\n",
    "# $CHALLENGIFY_END"
   ]
  },
  {
   "cell_type": "markdown",
   "id": "ec757315",
   "metadata": {},
   "source": [
    "What do you get out? Check the `type` of the object and look inside it. You can even try casting it to a dictionary"
   ]
  },
  {
   "cell_type": "markdown",
   "id": "e8bdc719",
   "metadata": {},
   "source": [
    "We're now going to pass these into our `model`. Pass your `input_ids` into `model.predict()` method to see what embeddings the model predicts from your input tensor!\n"
   ]
  },
  {
   "cell_type": "code",
   "execution_count": null,
   "id": "9b6331e9",
   "metadata": {},
   "outputs": [],
   "source": [
    "# $CHALLENGIFY_BEGIN\n",
    "import tensorflow as tf\n",
    "# Get individual tensors from the batch\n",
    "input_tensor = tensor_token['input_ids']\n",
    "\n",
    "\n",
    "# Pass tokenized input through the model\n",
    "outputs = model.predict(input_tensor)\n",
    "# $CHALLENGIFY_END"
   ]
  },
  {
   "cell_type": "code",
   "execution_count": null,
   "id": "cff6ef37",
   "metadata": {},
   "outputs": [],
   "source": [
    "input_tensor.shape"
   ]
  },
  {
   "cell_type": "markdown",
   "id": "a6fc1345",
   "metadata": {},
   "source": [
    "The part we care about most is the `last_hidden_state` array from our prediction. This contains all of our embeddings from the final layer of the BERT model. What is its shape? What does each aspect of the shape signify?"
   ]
  },
  {
   "cell_type": "code",
   "execution_count": null,
   "id": "1510b161",
   "metadata": {},
   "outputs": [],
   "source": [
    "# $CHALLENGIFY_BEGIN\n",
    "outputs.last_hidden_state.shape\n",
    "# $CHALLENGIFY_END"
   ]
  },
  {
   "cell_type": "markdown",
   "id": "a7c2beab",
   "metadata": {},
   "source": [
    "You should have a shape of __(1, 10, 128)__. Why? \n",
    "\n",
    "The batch size is 1.\n",
    "We have 10 tokens. \n",
    "Each token has a 128-long embeddings since Tiny Bert has a \"hidden size\" of 128 which means it'll create embeddings of that size."
   ]
  },
  {
   "cell_type": "markdown",
   "id": "0ed877ec",
   "metadata": {},
   "source": [
    "Run the cell below to load up `bert-small` instead of `tiny-bert` and check the model description you see listed on HuggingFace. You should see a different \"hidden_dimension\" size reflected in the embeddings you get out when you `.predict()` on the same sentence."
   ]
  },
  {
   "cell_type": "code",
   "execution_count": null,
   "id": "823c30af",
   "metadata": {},
   "outputs": [],
   "source": [
    "small_model = TFAutoModel.from_pretrained(\"prajjwal1/bert-small\", from_pt = True)\n",
    "small_model.predict(input_tensor).last_hidden_state.shape"
   ]
  },
  {
   "cell_type": "markdown",
   "id": "57b4ae79",
   "metadata": {},
   "source": [
    "When we're using our embeddings as a feature, we usually don't need to take out all 10 tokens out - we usually just take the first token (the `[CLS]` token that gets inserted for us) out instead - this should contain most of the information from our full sentence. With that in mind, select just the final token from your `bert_tiny` embeddings. It should have shape (1, 128)"
   ]
  },
  {
   "cell_type": "code",
   "execution_count": null,
   "id": "4e9d930f",
   "metadata": {},
   "outputs": [],
   "source": [
    "# $CHALLENGIFY_BEGIN\n",
    "outputs.last_hidden_state[:,0,:].shape\n",
    "# $CHALLENGIFY_END"
   ]
  },
  {
   "cell_type": "markdown",
   "id": "587c77c9",
   "metadata": {},
   "source": [
    "### Tokenizing all our sentences"
   ]
  },
  {
   "cell_type": "markdown",
   "id": "2e9b2ba8",
   "metadata": {},
   "source": [
    "We want to tokenize all of the cells in our \"text\" column at once. Before we do though, we need to think about padding. Because we're using subwork tokenization, we can't simply pad/ truncate our words when they are written out in full text. For example:\n",
    "\n",
    "\"Transformer models do a lot of good things\"\n",
    "\n",
    "\"Although indubitably complex, Transformers outperform countless other models\"\n",
    "\n",
    "Both of these sentence are 8 words long. But when we use subword tokenization, the second one will be split into more tokens, since it contains much longer words."
   ]
  },
  {
   "cell_type": "markdown",
   "id": "f3d56a2f",
   "metadata": {},
   "source": [
    "Check the length of both of these sentences tokenized to provide this to yourself."
   ]
  },
  {
   "cell_type": "code",
   "execution_count": null,
   "id": "4ff61d7f",
   "metadata": {},
   "outputs": [],
   "source": [
    "sent1_toks = tokenizer(\"Transformer models do a lot of good things\")\n",
    "\n",
    "sent2_toks = tokenizer(\"Although indubitably complex, Transformers outperform countless other models\")\n",
    "\n",
    "print(len(sent1_toks[\"input_ids\"]))\n",
    "print(len(sent2_toks[\"input_ids\"]))\n"
   ]
  },
  {
   "cell_type": "markdown",
   "id": "91f3132f",
   "metadata": {},
   "source": [
    "We want to see how long our tokenized sentences will all be, then we can make a decision about how we should pad/ truncate our sentences."
   ]
  },
  {
   "cell_type": "markdown",
   "id": "e8598f32",
   "metadata": {},
   "source": [
    "We'll need to go through each sentence in our DataFrame and see how long it is when tokenized (we can do this by mapping/ applying a function on our DataFrame that tokenizes our sentences). Then we can simply do a quick histogram to see what our varying lengths look like."
   ]
  },
  {
   "cell_type": "code",
   "execution_count": null,
   "id": "1e4babdf",
   "metadata": {},
   "outputs": [],
   "source": [
    "df[\"tokenized\"] = df[\"text\"].map(lambda x: tokenizer(x)[\"input_ids\"])\n",
    "\n",
    "df[\"len_tokenized\"] = df[\"tokenized\"].map(lambda x: len(x))\n",
    "\n",
    "df[\"len_tokenized\"].hist()"
   ]
  },
  {
   "cell_type": "markdown",
   "id": "06b2c701",
   "metadata": {},
   "source": [
    "Looking at our histogram, 500 seems like a reasonable choice."
   ]
  },
  {
   "cell_type": "markdown",
   "id": "f2580cfc",
   "metadata": {},
   "source": [
    "Let's go ahead and tokenize our column - specify your `\"max_length\"` as 500 and make sure you enable padding as you call your tokenizer. To get this to work properly, you'll also need to set a value of `True` for the `truncation` arguments and you'll need to make sure you set `padding` equal to `\"max_length\"`. To ensure the model gets the right kind of input, you will have to add `.tolist()` when you pass your column into your tokenizer."
   ]
  },
  {
   "cell_type": "code",
   "execution_count": null,
   "id": "cf7b7010",
   "metadata": {},
   "outputs": [],
   "source": [
    "# $CHALLENGIFY_BEGIN\n",
    "tokenized_tensors = tokenizer(df[\"text\"].tolist(), max_length=500, padding = \"max_length\", truncation = True, return_tensors=\"tf\")\n",
    "# $CHALLENGIFY_END"
   ]
  },
  {
   "cell_type": "markdown",
   "id": "9a0b31df",
   "metadata": {},
   "source": [
    "What do we get out? What shape do its components have?\n"
   ]
  },
  {
   "cell_type": "code",
   "execution_count": null,
   "id": "6cbf34d5",
   "metadata": {},
   "outputs": [],
   "source": [
    "# $CHALLENGIFY_BEGIN\n",
    "tokenized_tensors[\"input_ids\"].shape\n",
    "# $CHALLENGIFY_END"
   ]
  },
  {
   "cell_type": "markdown",
   "id": "5ff4dd79",
   "metadata": {},
   "source": [
    "Again, we're just interested in our `input_ids` for now (we won't worry about the attention mask). So grab those and use `model.predict()` to see what embeddings we get out for all of our tokenized sentences."
   ]
  },
  {
   "cell_type": "code",
   "execution_count": null,
   "id": "455f4dba",
   "metadata": {},
   "outputs": [],
   "source": [
    "# $CHALLENGIFY_BEGIN\n",
    "embeddings = model.predict(tokenized_tensors[\"input_ids\"])\n",
    "# $CHALLENGIFY_END"
   ]
  },
  {
   "cell_type": "markdown",
   "id": "6566225a",
   "metadata": {},
   "source": [
    "### Reducing our data"
   ]
  },
  {
   "cell_type": "markdown",
   "id": "bb286e90",
   "metadata": {},
   "source": [
    "We finally have all of our sentence embeddings - 128 numbers to express each of our words in their context. This might be quite a lot of data for a model to process (especially if we were to scale up) so we'll simply take the embedding corresponding to the `[CLS]` token (i.e. the first token of your sequence). \n",
    "\n",
    "\n",
    "<img src = \"https://wagon-public-datasets.s3.amazonaws.com/data-science-images/lectures/Transformers/CLS_token_explanation.png\"> Select this column from your `last_hidden_state` and assign it to `X` since this is what we're going to use in our Classification Neural Network. "
   ]
  },
  {
   "cell_type": "code",
   "execution_count": null,
   "id": "8ca19c4c",
   "metadata": {},
   "outputs": [],
   "source": [
    "# $CHALLENGIFY_BEGIN\n",
    "X = embeddings.last_hidden_state[:,0,:]\n",
    "# $CHALLENGIFY_END"
   ]
  },
  {
   "cell_type": "markdown",
   "id": "df26f83d",
   "metadata": {},
   "source": [
    "Now, create a train-test split, and train a simple Dense Network to classify between positive and negative reviews. Train it, then evaluate your model on the test set. What kind of accuracy do you get?"
   ]
  },
  {
   "cell_type": "code",
   "execution_count": null,
   "id": "b5f7aa4d",
   "metadata": {},
   "outputs": [],
   "source": [
    "# $CHALLENGIFY_BEGIN\n",
    "from sklearn.model_selection import train_test_split\n",
    "\n",
    "X_train, X_test, y_train, y_test = train_test_split(X, df[\"label\"])\n",
    "\n",
    "from tensorflow.keras import Sequential\n",
    "from tensorflow.keras.layers import Dense, Flatten\n",
    "\n",
    "input_shape = (128,) \n",
    "\n",
    "dense_model = Sequential([\n",
    "    Dense(256, activation='relu', input_shape=input_shape),\n",
    "    Flatten(),\n",
    "    Dense(1, activation='sigmoid')\n",
    "])\n",
    "\n",
    "dense_model.compile(optimizer='adam', loss='binary_crossentropy', metrics=['accuracy'])\n",
    "\n",
    "dense_model.fit(X_train, y_train, validation_split=0.2, epochs=20)\n",
    "\n",
    "dense_model.evaluate(X_test, y_test)\n",
    "# $CHALLENGIFY_END"
   ]
  },
  {
   "cell_type": "markdown",
   "id": "630edfae",
   "metadata": {},
   "source": [
    "Looks like we get around 70% which isn't too bad, but could we do any better?"
   ]
  },
  {
   "cell_type": "markdown",
   "id": "75666936",
   "metadata": {},
   "source": [
    "### Fine tuning a BERT model for our task"
   ]
  },
  {
   "cell_type": "markdown",
   "id": "a23093e2",
   "metadata": {},
   "source": [
    "In the first part of our exercise, we've just been passing our data through a pre-trained BERT model. That means that we've just been using the weights that were achieved by training the model on its training dataset, but the interpretation that the BERT model might have for each word could be different - consider the following words:\n",
    "\n",
    "\"The direction was completely unique\"\n",
    "\n",
    "This sentence might mean very different things (and thus give different embeddings) to a model that has been trained on text about the weather (e.g. the model might interpret this as something to do with the \"direction\" of the wind or an ocean current). But means something completely different when it comes to talking about the \"direction\" of a film director. We're dealing with a dataset about movies and that may contain a lot of words and concepts that are very unfamiliar to our regular BERT model.\n",
    "\n",
    "So we have a problem! The embeddings that we're getting out may not be suited too well to our task so we're limited in how well our model can interpret our words since we we're stuck with potentially unhelpful embeddings.\n",
    "\n",
    "But what if we could let the model learn as it goes? What if we could take those existing, excellent weights and change them __slightly__ so that they perform perfectly for our task at hand?\n",
    "\n"
   ]
  },
  {
   "cell_type": "markdown",
   "id": "34c660d0",
   "metadata": {},
   "source": [
    "\n",
    "\n",
    "<img src = \"https://wagon-public-datasets.s3.amazonaws.com/data-science-images/lectures/Transformers/bert_weight_updating_2.png\">\n",
    "\n",
    "This is exactly what __fine-tuning__ is and HuggingFace makes it really easy 😇\n",
    "\n",
    "Create another `tiny-bert` model, loading it up with [`TFAutoModelForSequenceClassification`](https://huggingface.co/transformers/v3.0.2/model_doc/auto.html#tfautomodelforsequenceclassification) this time instead. "
   ]
  },
  {
   "cell_type": "code",
   "execution_count": null,
   "id": "a2cd6b6b",
   "metadata": {},
   "outputs": [],
   "source": [
    "# $CHALLENGIFY_BEGIN\n",
    "from transformers import TFAutoModelForSequenceClassification\n",
    "\n",
    "tuning_model = TFAutoModelForSequenceClassification.from_pretrained(\"prajjwal1/bert-tiny\", from_pt = True)\n",
    "# $CHALLENGIFY_END"
   ]
  },
  {
   "cell_type": "markdown",
   "id": "0eac2b38",
   "metadata": {},
   "source": [
    "All we need to do is pass in our tensors that represent out tokenized sentences that we created earlier. We can split off 20% of our data for our test. Then pass our tensors of tokens and our labels straight into our model."
   ]
  },
  {
   "cell_type": "code",
   "execution_count": null,
   "id": "08196131",
   "metadata": {},
   "outputs": [],
   "source": [
    "# $CHALLENGIFY_BEGIN\n",
    "X_train = tokenized_tensors[\"input_ids\"][:6400]\n",
    "X_test = tokenized_tensors[\"input_ids\"][6400:]\n",
    "y_train = df[\"label\"][:6400]\n",
    "y_test = df[\"label\"][6400:]\n",
    "# $CHALLENGIFY_END"
   ]
  },
  {
   "cell_type": "markdown",
   "id": "90983b59",
   "metadata": {},
   "source": [
    "Set a very low number of epochs for your training such as 3 or 5 - why? Well now we're updating over __4 million weights at once__ which takes a lot of time and computational power. 😮‍💨 Much more than the small Dense network we put on top of our X and y in the first half of the exercise. We should see good results after only a few epochs, though! \n",
    "\n",
    "\n",
    "While you wait for training to finish, you can take the time to dig a little deeper into [BERT's architecture](https://jalammar.github.io/illustrated-bert/). \n"
   ]
  },
  {
   "cell_type": "code",
   "execution_count": null,
   "id": "ebc579ad",
   "metadata": {},
   "outputs": [],
   "source": [
    "# $CHALLENGIFY_BEGIN\n",
    "tuning_model.compile(optimizer= \"adam\", metrics= \"accuracy\")\n",
    "tuning_model.fit(tokenized_tensors[\"input_ids\"], df[\"label\"], validation_split=0.2, batch_size=32, epochs=5)\n",
    "\n",
    "tuning_model.evaluate(X_test, y_test)\n",
    "# $CHALLENGIFY_END"
   ]
  },
  {
   "cell_type": "markdown",
   "id": "17095b38",
   "metadata": {},
   "source": [
    "Evaluate your results on your test set! You should see that when we take the tune a model __specifically__ for our task, we get better results even after just 3-4 epochs of training."
   ]
  },
  {
   "cell_type": "markdown",
   "id": "4469b62f",
   "metadata": {},
   "source": [
    "Here we used a default Adam optimizer, with the default learning rate. We see that even after two epochs the `val_accuracy` is stable. Our model is learning pretty fast, so we don't need to increase the learning rate. If you would, you would see the accuracy dropping very fast in this example.\n",
    "\n",
    "We could try the opposite, and see if reducing the learning rate improves our training result, while maintaining an acceptable training time. Simply instantiate an instance of the Adam class from `tf.keras.optimizers` and try decreasing it from the default. Try dividing the default rate by 5 for example. This time train only for 2 epochs, on a newly instantiated model."
   ]
  },
  {
   "cell_type": "code",
   "execution_count": null,
   "id": "8e9923f4",
   "metadata": {},
   "outputs": [],
   "source": [
    "# $CHALLENGIFY_BEGIN\n",
    "optimizer = tf.optimizers.Adam(learning_rate=0.1)\n",
    "fast_model = TFAutoModelForSequenceClassification.from_pretrained(\"prajjwal1/bert-tiny\", from_pt = True)\n",
    "\n",
    "fast_model.compile(optimizer=optimizer, metrics= \"accuracy\")\n",
    "fast_model.fit(tokenized_tensors[\"input_ids\"], df[\"label\"], validation_split=0.2, batch_size=32, epochs=2)\n",
    "\n",
    "fast_model.evaluate(X_test, y_test)\n",
    "# $CHALLENGIFY_END"
   ]
  },
  {
   "cell_type": "markdown",
   "id": "2369b846",
   "metadata": {},
   "source": [
    "Congratulations! You've just fine-tuned your own LLM 🎉🎉🎉\n",
    "\n",
    "### Some important notes:\n",
    "\n",
    "- We're getting good results with this model but this is a *tiny* version of BERT. If we increased the size of our model and if we used our full dataset (rather than just 5000 samples), we might get even better results. \n",
    "\n",
    "- One downside of fine-tuning (as you have seen) is that it can take a LOT of computational power to carry out. Imagine how much more it might take if we didn't start off with our transfer-learned weights.\n",
    "\n",
    "- Because of that, in can be important to consider other options first - if you'd like, try training a regular ML Tfidf model and you may be surprised how good the results are. When we're dealing with tasks like classification, __ML will often do a pretty good job with much less compute!__\n",
    "\n",
    "- That said, there are a __very wide__ range of use cases for BERT-style models - we've only done classification here! Look around HuggingFace and you'll see all sorts of fine-tuned BERTs for specific domains (e.g. Finance, medicine or Twitter) and different tasks (some that ML can't help us with)\n",
    "\n",
    "- Each BERT model can be fine-tuned as long as you take the proper time to structure your data correctly (especially using Data Loaders like the Tensorflow Dataset if your data is very large). \n",
    "\n",
    "Now that you've seen what can be done with an encoder-style model, it's time to see what a decoder-style model looks like 🚀"
   ]
  }
 ],
 "metadata": {
  "kernelspec": {
   "display_name": "Python 3",
   "language": "python",
   "name": "python3"
  }
 },
 "nbformat": 4,
 "nbformat_minor": 5
}
